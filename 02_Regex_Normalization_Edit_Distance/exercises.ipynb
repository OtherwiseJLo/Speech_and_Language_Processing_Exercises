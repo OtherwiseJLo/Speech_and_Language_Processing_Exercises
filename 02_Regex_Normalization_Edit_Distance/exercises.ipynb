{
 "cells": [
  {
   "cell_type": "markdown",
   "metadata": {
    "collapsed": true,
    "pycharm": {
     "name": "#%% md\n"
    }
   },
   "source": [
    "### 2.1 Write regular expressions for the following languages.\n",
    "\n",
    "1. The set of all alphabetic strings;\n",
    "2. The set of all lower case alphanumeric strings ending in a _b_;\n",
    "3. The set of all strings from the alphabet _a_ , _b_\n",
    "    such that each __a_ is immediately preceeded by\n",
    "    and immediately followed by a _b_.\n",
    "\n"
   ]
  },
  {
   "cell_type": "code",
   "execution_count": null,
   "outputs": [],
   "source": [
    "import re\n",
    "\n",
    "q1 = re.compile(\"[A-Za-z]+\")\n",
    "q2 = re.compile(\"[a-z]+b\")\n",
    "q3 = re.compile(\"bab\")"
   ],
   "metadata": {
    "collapsed": false,
    "pycharm": {
     "name": "#%%\n"
    }
   }
  }
 ],
 "metadata": {
  "kernelspec": {
   "display_name": "Python 3",
   "language": "python",
   "name": "python3"
  },
  "language_info": {
   "codemirror_mode": {
    "name": "ipython",
    "version": 2
   },
   "file_extension": ".py",
   "mimetype": "text/x-python",
   "name": "python",
   "nbconvert_exporter": "python",
   "pygments_lexer": "ipython2",
   "version": "2.7.6"
  }
 },
 "nbformat": 4,
 "nbformat_minor": 0
}