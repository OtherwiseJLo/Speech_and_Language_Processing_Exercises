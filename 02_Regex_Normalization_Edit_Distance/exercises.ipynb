{
 "cells": [
  {
   "cell_type": "markdown",
   "metadata": {
    "collapsed": true,
    "pycharm": {
     "name": "#%% md\n"
    }
   },
   "source": [
    "### 2.1 Write regular expressions for the following languages.\n",
    "\n",
    "1. The set of all alphabetic strings;\n",
    "2. The set of all lower case alphanumeric strings ending in a _b_;\n",
    "3. The set of all strings from the alphabet _a_ , _b_\n",
    "    such that each __a_ is immediately preceeded by\n",
    "    and immediately followed by a _b_.\n",
    "\n"
   ]
  },
  {
   "cell_type": "code",
   "execution_count": null,
   "outputs": [],
   "source": [
    "import re\n",
    "\n",
    "q2_1_1 = re.compile(\"[A-Za-z]+\")\n",
    "q2_1_2 = re.compile(\"[a-z]+b\")\n",
    "q2_1_3 = re.compile(\"bab\")"
   ],
   "metadata": {
    "collapsed": false,
    "pycharm": {
     "name": "#%%\n"
    }
   }
  },
  {
   "cell_type": "markdown",
   "source": [
    "Write regular expressions for the following languages.\n",
    "By \"word\", we mean an alphabetic string separated from other words by whitespace,\n",
    "any relevant punctuation, line breaks, and so forth.\n"
   ],
   "metadata": {
    "collapsed": false
   }
  },
  {
   "cell_type": "code",
   "execution_count": 39,
   "outputs": [],
   "source": [
    "import re\n",
    "\n",
    "\n",
    "def test_sentences(regex, filename, verbose=False):\n",
    "    with open(filename) as f:\n",
    "        sentences = f.readlines()\n",
    "        n_tests = len(sentences)\n",
    "        tests_passed = 0\n",
    "    for line in sentences:\n",
    "        sentence, valid = line.strip().split(\",\")\n",
    "        try:\n",
    "            assert (result:=bool(regex.search(sentence.strip()))) == bool(valid)\n",
    "            if verbose:\n",
    "                print(f\"{sentence}: PASSED, {bool(valid)} = {result}\")\n",
    "            tests_passed += 1\n",
    "        except AssertionError:\n",
    "            print(f\"{sentence}: FAILED, expected {bool(valid)}\")\n",
    "    print(f\"{tests_passed}/{n_tests} tests passed\")\n",
    "    if tests_passed == n_tests: print(\"All tests have passed!\")\n"
   ],
   "metadata": {
    "collapsed": false,
    "pycharm": {
     "name": "#%%\n"
    }
   }
  },
  {
   "cell_type": "code",
   "execution_count": 20,
   "outputs": [
    {
     "name": "stdout",
     "output_type": "stream",
     "text": [
      "Humbert Humbert: PASSED, True = True\n",
      "the the: PASSED, True = True\n",
      "the bug: PASSED, False = False\n",
      "the big bug: PASSED, False = False\n",
      "Buffalo buffalo buffalo buffalo buffalo: PASSED, True = True\n",
      "The quick brown fox jumped over the lazy dog: PASSED, False = False\n",
      "She sells sea shells by the sea shore: PASSED, False = False\n",
      "7/7 tests passed\n",
      "All tests have passed!\n"
     ]
    }
   ],
   "source": [
    "'''\n",
    "1. The set of all strings with two consecutive repeated words\n",
    "(e.g., \"Humbert Humbert\" and \"the the\" but not \"the bug\" or \"the big bug\";\n",
    "'''\n",
    "consecutive_regex = re.compile(r\"\\b(\\w+)\\s+\\1\\b\")\n",
    "test_sentences(consecutive_regex, \"consecutive_words.csv\")"
   ],
   "metadata": {
    "collapsed": false,
    "pycharm": {
     "name": "#%%\n"
    }
   }
  },
  {
   "cell_type": "code",
   "execution_count": 40,
   "outputs": [
    {
     "name": "stdout",
     "output_type": "stream",
     "text": [
      "9 lives: PASSED, True = True\n",
      "Bakers 12: PASSED, False = False\n",
      "101 dalmations: PASSED, True = True\n",
      "100: PASSED, False = False\n",
      "dogs: PASSED, False = False\n",
      "four 4 score: PASSED, False = False\n",
      "1 2 3 4: PASSED, False = False\n",
      "13293939203848238 fkdfasflkjlkjkj: PASSED, True = True\n",
      "3D movie: PASSED, True = True\n",
      "0 Password1: PASSED, False = False\n",
      "10/10 tests passed\n",
      "All tests have passed!\n"
     ]
    }
   ],
   "source": [
    "'''\n",
    "2. All strings that\n",
    "start at the beginning of the line with an integer\n",
    "and that end at the end of the line with a word;\n",
    "'''\n",
    "import re\n",
    "\n",
    "integer_word_regex = re.compile(r\"^[0-9]+.*\\s+[A-Za-z]+$\")\n",
    "test_sentences(integer_word_regex, \"integer_word.csv\")"
   ],
   "metadata": {
    "collapsed": false,
    "pycharm": {
     "name": "#%%\n"
    }
   }
  },
  {
   "cell_type": "code",
   "execution_count": 47,
   "outputs": [
    {
     "name": "stdout",
     "output_type": "stream",
     "text": [
      "20/20 tests passed\n",
      "All tests have passed!\n"
     ]
    }
   ],
   "source": [
    "'''\n",
    "3. All strings that have both the word _grotto_ and the word _raven_ in them\n",
    "(but not, e.g., words like _grottos_ that merely _contain_ the word _grotto_);\n",
    "4. Write a pattern that places the first word of an English sentence in a register.\n",
    "Deal with punctuation.\n",
    "'''\n",
    "grotto_regex = re.compile(r\"(\\b(raven|grotto)\\b).*(\\b(raven|grotto)\\b)\")\n",
    "test_sentences(grotto_regex, \"grotto_raven.csv\")"
   ],
   "metadata": {
    "collapsed": false,
    "pycharm": {
     "name": "#%%\n"
    }
   }
  }
 ],
 "metadata": {
  "kernelspec": {
   "display_name": "Python 3",
   "language": "python",
   "name": "python3"
  },
  "language_info": {
   "codemirror_mode": {
    "name": "ipython",
    "version": 2
   },
   "file_extension": ".py",
   "mimetype": "text/x-python",
   "name": "python",
   "nbconvert_exporter": "python",
   "pygments_lexer": "ipython2",
   "version": "2.7.6"
  }
 },
 "nbformat": 4,
 "nbformat_minor": 0
}