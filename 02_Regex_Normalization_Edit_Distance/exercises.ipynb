{
 "cells": [
  {
   "cell_type": "markdown",
   "metadata": {
    "collapsed": true,
    "pycharm": {
     "name": "#%% md\n"
    }
   },
   "source": [
    "### 2.1 Write regular expressions for the following languages.\n",
    "\n",
    "1. The set of all alphabetic strings;\n",
    "2. The set of all lower case alphanumeric strings ending in a _b_;\n",
    "3. The set of all strings from the alphabet _a_ , _b_\n",
    "    such that each __a_ is immediately preceeded by\n",
    "    and immediately followed by a _b_.\n",
    "\n"
   ]
  },
  {
   "cell_type": "code",
   "execution_count": null,
   "outputs": [],
   "source": [
    "import re\n",
    "\n",
    "q2_1_1 = re.compile(\"[A-Za-z]+\")\n",
    "q2_1_2 = re.compile(\"[a-z]+b\")\n",
    "q2_1_3 = re.compile(\"bab\")"
   ],
   "metadata": {
    "collapsed": false,
    "pycharm": {
     "name": "#%%\n"
    }
   }
  },
  {
   "cell_type": "markdown",
   "source": [
    "Write regular expressions for the following languages.\n",
    "By \"word\", we mean an alphabetic string separated from other words by whitespace,\n",
    "any relevant punctuation, line breaks, and so forth.\n",
    "\n",
    "1. The set of all strings with two consecutive repeated words\n",
    "(e.g., \"Humbert Humbert\" and \"the the\" but not \"the bug\" or \"the big bug\";\n",
    "2. All strings that\n",
    "start at the beginning of the line with an integer\n",
    "and that end at the end of the line with a word;\n",
    "3. All strings that have both the word _grotto_ and the word _raven_ in them\n",
    "(but not, e.g., words like _grottos_ that merely _contain_ the word _grotto_);\n",
    "4. Write a pattern that places the first word of an English sentence in a register.\n",
    "Deal with punctuation."
   ],
   "metadata": {
    "collapsed": false
   }
  },
  {
   "cell_type": "code",
   "execution_count": 51,
   "outputs": [
    {
     "name": "stdout",
     "output_type": "stream",
     "text": [
      "['Humbert Humbert, True\\n', 'the the, True\\n', 'the bug,\\n', 'the big bug,\\n', 'Buffalo buffalo buffalo buffalo buffalo, True\\n', 'The quick brown fox jumped over the lazy dog,\\n', 'She sells sea shells by the sea shore,\\n'] True\n",
      "['Humbert Humbert, True\\n', 'the the, True\\n', 'the bug,\\n', 'the big bug,\\n', 'Buffalo buffalo buffalo buffalo buffalo, True\\n', 'The quick brown fox jumped over the lazy dog,\\n', 'She sells sea shells by the sea shore,\\n'] True\n",
      "['Humbert Humbert, True\\n', 'the the, True\\n', 'the bug,\\n', 'the big bug,\\n', 'Buffalo buffalo buffalo buffalo buffalo, True\\n', 'The quick brown fox jumped over the lazy dog,\\n', 'She sells sea shells by the sea shore,\\n'] False\n",
      "['Humbert Humbert, True\\n', 'the the, True\\n', 'the bug,\\n', 'the big bug,\\n', 'Buffalo buffalo buffalo buffalo buffalo, True\\n', 'The quick brown fox jumped over the lazy dog,\\n', 'She sells sea shells by the sea shore,\\n'] False\n",
      "['Humbert Humbert, True\\n', 'the the, True\\n', 'the bug,\\n', 'the big bug,\\n', 'Buffalo buffalo buffalo buffalo buffalo, True\\n', 'The quick brown fox jumped over the lazy dog,\\n', 'She sells sea shells by the sea shore,\\n'] True\n",
      "['Humbert Humbert, True\\n', 'the the, True\\n', 'the bug,\\n', 'the big bug,\\n', 'Buffalo buffalo buffalo buffalo buffalo, True\\n', 'The quick brown fox jumped over the lazy dog,\\n', 'She sells sea shells by the sea shore,\\n'] False\n",
      "['Humbert Humbert, True\\n', 'the the, True\\n', 'the bug,\\n', 'the big bug,\\n', 'Buffalo buffalo buffalo buffalo buffalo, True\\n', 'The quick brown fox jumped over the lazy dog,\\n', 'She sells sea shells by the sea shore,\\n'] False\n",
      "All tests Passed!\n"
     ]
    }
   ],
   "source": [
    "import re\n",
    "from read_sample_sentences import test_regex\n",
    "\n",
    "tests = {}\n",
    "with open(\"consecutive_words.csv\") as f:\n",
    "    sentences = f.readlines()\n",
    "\n",
    "consecutive_regex = re.compile(r\"\\b(\\w+)\\s+\\1\\b\")\n",
    "\n",
    "for line in sentences:\n",
    "    sentence, valid = line.strip().split(\",\")\n",
    "    assert (result:=bool(consecutive_regex.search(sentence))) == bool(valid)\n",
    "print(\"All tests passed!\")\n"
   ],
   "metadata": {
    "collapsed": false,
    "pycharm": {
     "name": "#%%\n"
    }
   }
  },
  {
   "cell_type": "code",
   "execution_count": 56,
   "outputs": [
    {
     "name": "stdout",
     "output_type": "stream",
     "text": [
      "9 lives True\n",
      "Bakers 12 False\n",
      "101 dalmations True\n",
      "100 False\n",
      "dogs False\n",
      "four 4 score False\n",
      "1 2 3 4 False\n",
      "13293939203848238 fkdfasflkjlkjkj True\n",
      "3D movie True\n",
      "0 Password1 False\n"
     ]
    }
   ],
   "source": [
    "tests = {}\n",
    "with open(\"integer_word.csv\") as f:\n",
    "    sentences = f.readlines()\n",
    "\n",
    "integer_word_regex = re.compile(r\"^[0-9].*\\s[A-Za-z]+$\")\n",
    "\n",
    "for line in sentences:\n",
    "    sentence, valid = line.strip().split(\",\")\n",
    "    assert bool(integer_word_regex.search(sentence)) == bool(valid)\n",
    "print(\"All tests passed!\")"
   ],
   "metadata": {
    "collapsed": false,
    "pycharm": {
     "name": "#%%\n"
    }
   }
  },
  {
   "cell_type": "code",
   "execution_count": 61,
   "outputs": [
    {
     "name": "stdout",
     "output_type": "stream",
     "text": [
      "grotto raven True\n"
     ]
    },
    {
     "ename": "AssertionError",
     "evalue": "",
     "output_type": "error",
     "traceback": [
      "\u001B[0;31m---------------------------------------------------------------------------\u001B[0m",
      "\u001B[0;31mAssertionError\u001B[0m                            Traceback (most recent call last)",
      "\u001B[0;32m<ipython-input-61-1b7a79c6fcdc>\u001B[0m in \u001B[0;36m<module>\u001B[0;34m\u001B[0m\n\u001B[1;32m      8\u001B[0m     \u001B[0msentence\u001B[0m\u001B[0;34m,\u001B[0m \u001B[0mvalid\u001B[0m \u001B[0;34m=\u001B[0m \u001B[0mline\u001B[0m\u001B[0;34m.\u001B[0m\u001B[0mstrip\u001B[0m\u001B[0;34m(\u001B[0m\u001B[0;34m)\u001B[0m\u001B[0;34m.\u001B[0m\u001B[0msplit\u001B[0m\u001B[0;34m(\u001B[0m\u001B[0;34m\",\"\u001B[0m\u001B[0;34m)\u001B[0m\u001B[0;34m\u001B[0m\u001B[0;34m\u001B[0m\u001B[0m\n\u001B[1;32m      9\u001B[0m     \u001B[0mprint\u001B[0m\u001B[0;34m(\u001B[0m\u001B[0msentence\u001B[0m\u001B[0;34m,\u001B[0m \u001B[0mbool\u001B[0m\u001B[0;34m(\u001B[0m\u001B[0mvalid\u001B[0m\u001B[0;34m)\u001B[0m\u001B[0;34m)\u001B[0m\u001B[0;34m\u001B[0m\u001B[0;34m\u001B[0m\u001B[0m\n\u001B[0;32m---> 10\u001B[0;31m     \u001B[0;32massert\u001B[0m \u001B[0mbool\u001B[0m\u001B[0;34m(\u001B[0m\u001B[0minteger_word_regex\u001B[0m\u001B[0;34m.\u001B[0m\u001B[0msearch\u001B[0m\u001B[0;34m(\u001B[0m\u001B[0msentence\u001B[0m\u001B[0;34m)\u001B[0m\u001B[0;34m)\u001B[0m \u001B[0;34m==\u001B[0m \u001B[0mbool\u001B[0m\u001B[0;34m(\u001B[0m\u001B[0mvalid\u001B[0m\u001B[0;34m)\u001B[0m\u001B[0;34m\u001B[0m\u001B[0;34m\u001B[0m\u001B[0m\n\u001B[0m\u001B[1;32m     11\u001B[0m \u001B[0mprint\u001B[0m\u001B[0;34m(\u001B[0m\u001B[0;34m\"All tests passed!\"\u001B[0m\u001B[0;34m)\u001B[0m\u001B[0;34m\u001B[0m\u001B[0;34m\u001B[0m\u001B[0m\n\u001B[1;32m     12\u001B[0m \u001B[0;34m\u001B[0m\u001B[0m\n",
      "\u001B[0;31mAssertionError\u001B[0m: "
     ]
    }
   ],
   "source": [
    "tests = {}\n",
    "with open(\"grotto_raven.csv\") as f:\n",
    "    sentences = f.readlines()\n",
    "\n",
    "integer_word_regex = re.compile(r\"([raven|grotto])\\s.+\\1\")\n",
    "\n",
    "for line in sentences:\n",
    "    sentence, valid = line.strip().split(\",\")\n",
    "    print(sentence, bool(valid))\n",
    "    assert bool(integer_word_regex.search(sentence)) == bool(valid)\n",
    "print(\"All tests passed!\")\n"
   ],
   "metadata": {
    "collapsed": false,
    "pycharm": {
     "name": "#%%\n"
    }
   }
  }
 ],
 "metadata": {
  "kernelspec": {
   "display_name": "Python 3",
   "language": "python",
   "name": "python3"
  },
  "language_info": {
   "codemirror_mode": {
    "name": "ipython",
    "version": 2
   },
   "file_extension": ".py",
   "mimetype": "text/x-python",
   "name": "python",
   "nbconvert_exporter": "python",
   "pygments_lexer": "ipython2",
   "version": "2.7.6"
  }
 },
 "nbformat": 4,
 "nbformat_minor": 0
}