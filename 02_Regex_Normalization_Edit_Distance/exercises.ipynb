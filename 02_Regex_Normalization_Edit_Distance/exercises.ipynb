{
 "cells": [
  {
   "cell_type": "markdown",
   "metadata": {
    "collapsed": true,
    "pycharm": {
     "name": "#%% md\n"
    }
   },
   "source": [
    "### 2.1 Write regular expressions for the following languages.\n",
    "\n",
    "1. The set of all alphabetic strings;\n",
    "2. The set of all lower case alphanumeric strings ending in a _b_;\n",
    "3. The set of all strings from the alphabet _a_ , _b_\n",
    "    such that each __a_ is immediately preceeded by\n",
    "    and immediately followed by a _b_.\n",
    "\n"
   ]
  },
  {
   "cell_type": "code",
   "execution_count": null,
   "outputs": [],
   "source": [
    "import re\n",
    "\n",
    "q2_1_1 = re.compile(\"[A-Za-z]+\")\n",
    "q2_1_2 = re.compile(\"[a-z]+b\")\n",
    "q2_1_3 = re.compile(\"bab\")"
   ],
   "metadata": {
    "collapsed": false,
    "pycharm": {
     "name": "#%%\n"
    }
   }
  },
  {
   "cell_type": "markdown",
   "source": [
    "Write regular expressions for the following languages.\n",
    "By \"word\", we mean an alphabetic string separated from other words by whitespace,\n",
    "any relevant punctuation, line breaks, and so forth.\n",
    "\n",
    "1. The set of all strings with two consecutive repeated words\n",
    "(e.g., \"Humbert Humbert\" and \"the the\" but not \"the bug\" or \"the big bug\";\n",
    "2. All strings that\n",
    "start at the beginning of the line with an integer\n",
    "and that end at the end of the line with a word;\n",
    "3. All strings that have both the word _grotto_ and the word _raven_ in them\n",
    "(but not, e.g., words like _grottos_ that merely _contain_ the word _grotto_);\n",
    "4. Write a pattern that places the first word of an English sentence in a register.\n",
    "Deal with punctuation."
   ],
   "metadata": {
    "collapsed": false
   }
  },
  {
   "cell_type": "code",
   "execution_count": 45,
   "outputs": [],
   "source": [
    "import re\n",
    "from read_sample_sentences import test_regex\n",
    "\n",
    "with open(\"consecutive_words.csv\") as f:\n",
    "    sentences = f.readlines()\n",
    "\n",
    "consecutive_regex = re.compile(r\"\\b(\\w+)\\s+\\1\\b\")\n",
    "test_regex(consecutive_regex, sentences)"
   ],
   "metadata": {
    "collapsed": false,
    "pycharm": {
     "name": "#%%\n"
    }
   }
  }
 ],
 "metadata": {
  "kernelspec": {
   "display_name": "Python 3",
   "language": "python",
   "name": "python3"
  },
  "language_info": {
   "codemirror_mode": {
    "name": "ipython",
    "version": 2
   },
   "file_extension": ".py",
   "mimetype": "text/x-python",
   "name": "python",
   "nbconvert_exporter": "python",
   "pygments_lexer": "ipython2",
   "version": "2.7.6"
  }
 },
 "nbformat": 4,
 "nbformat_minor": 0
}