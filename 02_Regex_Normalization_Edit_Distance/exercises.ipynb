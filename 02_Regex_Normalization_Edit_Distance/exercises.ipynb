{
 "cells": [
  {
   "cell_type": "markdown",
   "metadata": {
    "collapsed": true,
    "pycharm": {
     "name": "#%% md\n"
    }
   },
   "source": [
    "### 2.1 Write regular expressions for the following languages.\n",
    "\n",
    "1. The set of all alphabetic strings;\n",
    "2. The set of all lower case alphanumeric strings ending in a _b_;\n",
    "3. The set of all strings from the alphabet _a_ , _b_\n",
    "    such that each __a_ is immediately preceeded by\n",
    "    and immediately followed by a _b_.\n",
    "\n"
   ]
  },
  {
   "cell_type": "code",
   "execution_count": 51,
   "outputs": [],
   "source": [
    "import re\n",
    "\n",
    "q2_1_1 = re.compile(\"[A-Za-z]+\")\n",
    "q2_1_2 = re.compile(\"[a-z]+b\")\n",
    "q2_1_3 = re.compile(\"bab\")"
   ],
   "metadata": {
    "collapsed": false,
    "pycharm": {
     "name": "#%%\n"
    }
   }
  },
  {
   "cell_type": "markdown",
   "source": [
    "### 2.2 Write regular expressions for the following languages.\n",
    "### By \"word\", we mean an alphabetic string separated from other words by whitespace,any relevant punctuation, line breaks, and so forth.\n"
   ],
   "metadata": {
    "collapsed": false
   }
  },
  {
   "cell_type": "code",
   "execution_count": 52,
   "outputs": [],
   "source": [
    "import re\n",
    "\n",
    "\n",
    "def test_sentences(regex, filename, verbose=False):\n",
    "    with open(filename) as f:\n",
    "        sentences = f.readlines()\n",
    "        n_tests = len(sentences)\n",
    "        tests_passed = 0\n",
    "    for line in sentences:\n",
    "        sentence, valid = line.strip().split(\",\")\n",
    "        try:\n",
    "            assert (result:=bool(regex.search(sentence.strip()))) == bool(valid)\n",
    "            if verbose:\n",
    "                print(f\"{sentence}: PASSED, {bool(valid)} = {result}\")\n",
    "            tests_passed += 1\n",
    "        except AssertionError:\n",
    "            print(f\"{sentence}: FAILED, expected {bool(valid)}\")\n",
    "    print(f\"{tests_passed}/{n_tests} tests passed\")\n",
    "    if tests_passed == n_tests: print(\"All tests have passed!\")\n"
   ],
   "metadata": {
    "collapsed": false,
    "pycharm": {
     "name": "#%%\n"
    }
   }
  },
  {
   "cell_type": "markdown",
   "source": [
    "1. The set of all strings with two consecutive repeated words\n",
    "(e.g., \"Humbert Humbert\" and \"the the\" but not \"the bug\" or \"the big bug\";"
   ],
   "metadata": {
    "collapsed": false,
    "pycharm": {
     "name": "#%% md\n"
    }
   }
  },
  {
   "cell_type": "code",
   "execution_count": 53,
   "outputs": [
    {
     "name": "stdout",
     "output_type": "stream",
     "text": [
      "7/7 tests passed\n",
      "All tests have passed!\n"
     ]
    }
   ],
   "source": [
    "consecutive_regex = re.compile(r\"\\b(\\w+)\\s+\\1\\b\")\n",
    "test_sentences(consecutive_regex, \"consecutive_words.csv\")"
   ],
   "metadata": {
    "collapsed": false,
    "pycharm": {
     "name": "#%%\n"
    }
   }
  },
  {
   "cell_type": "markdown",
   "source": [
    "2. All strings that\n",
    "start at the beginning of the line with an integer\n",
    "and that end at the end of the line with a word;"
   ],
   "metadata": {
    "collapsed": false,
    "pycharm": {
     "name": "#%% md\n"
    }
   }
  },
  {
   "cell_type": "code",
   "execution_count": 54,
   "outputs": [
    {
     "name": "stdout",
     "output_type": "stream",
     "text": [
      "10/10 tests passed\n",
      "All tests have passed!\n"
     ]
    }
   ],
   "source": [
    "integer_word_regex = re.compile(r\"^[0-9]+.*\\s+[A-Za-z]+$\")\n",
    "test_sentences(integer_word_regex, \"integer_word.csv\")"
   ],
   "metadata": {
    "collapsed": false,
    "pycharm": {
     "name": "#%%\n"
    }
   }
  },
  {
   "cell_type": "markdown",
   "source": [
    "3. All strings that have both the word _grotto_ and the word _raven_ in them\n",
    "(but not, e.g., words like _grottos_ that merely _contain_ the word _grotto_);"
   ],
   "metadata": {
    "collapsed": false,
    "pycharm": {
     "name": "#%% md\n"
    }
   }
  },
  {
   "cell_type": "code",
   "execution_count": 55,
   "outputs": [
    {
     "name": "stdout",
     "output_type": "stream",
     "text": [
      "20/20 tests passed\n",
      "All tests have passed!\n"
     ]
    }
   ],
   "source": [
    "grotto_regex = re.compile(r\"(\\b(raven|grotto)\\b).*(\\b(raven|grotto)\\b)\")\n",
    "test_sentences(grotto_regex, \"grotto_raven.csv\")"
   ],
   "metadata": {
    "collapsed": false,
    "pycharm": {
     "name": "#%%\n"
    }
   }
  },
  {
   "cell_type": "markdown",
   "source": [
    "4. Write a pattern that places the first word of an English sentence in a register.\n",
    "Deal with punctuation."
   ],
   "metadata": {
    "collapsed": false
   }
  },
  {
   "cell_type": "code",
   "execution_count": 56,
   "outputs": [
    {
     "name": "stdout",
     "output_type": "stream",
     "text": [
      "20/20 tests passed\n",
      "All tests have passed!\n"
     ]
    }
   ],
   "source": [
    "grotto_regex = re.compile(r\"(\\b(raven|grotto)\\b).*(\\b(raven|grotto)\\b)\")\n",
    "test_sentences(grotto_regex, \"grotto_raven.csv\")"
   ],
   "metadata": {
    "collapsed": false,
    "pycharm": {
     "name": "#%%\n"
    }
   }
  },
  {
   "cell_type": "markdown",
   "source": [
    "2.3 Implement an ELIZA-like program, using substitutions such as those provided on page 9."
   ],
   "metadata": {
    "collapsed": false
   }
  },
  {
   "cell_type": "code",
   "execution_count": 57,
   "outputs": [
    {
     "name": "stdout",
     "output_type": "stream",
     "text": [
      "ELIZA: COME BACK SOON!\n"
     ]
    }
   ],
   "source": [
    "from eliza import run\n",
    "\n",
    "run()"
   ],
   "metadata": {
    "collapsed": false,
    "pycharm": {
     "name": "#%%\n"
    }
   }
  }
 ],
 "metadata": {
  "kernelspec": {
   "display_name": "Python 3",
   "language": "python",
   "name": "python3"
  },
  "language_info": {
   "codemirror_mode": {
    "name": "ipython",
    "version": 2
   },
   "file_extension": ".py",
   "mimetype": "text/x-python",
   "name": "python",
   "nbconvert_exporter": "python",
   "pygments_lexer": "ipython2",
   "version": "2.7.6"
  }
 },
 "nbformat": 4,
 "nbformat_minor": 0
}